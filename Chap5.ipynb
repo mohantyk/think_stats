{
 "cells": [
  {
   "cell_type": "markdown",
   "id": "ed4a9e91-27e0-4005-afcb-835dc6d2bc1e",
   "metadata": {},
   "source": [
    "## Imports"
   ]
  },
  {
   "cell_type": "code",
   "execution_count": 1,
   "id": "5dab3543-aa20-4c14-8f8a-e9bd4a11f172",
   "metadata": {},
   "outputs": [],
   "source": [
    "import pandas as pd\n",
    "import numpy as np\n",
    "import math\n",
    "from scipy import stats"
   ]
  },
  {
   "cell_type": "code",
   "execution_count": 2,
   "id": "0546e52c-bdb6-4f78-8828-d0456bab76e6",
   "metadata": {},
   "outputs": [],
   "source": [
    "from collections import defaultdict"
   ]
  },
  {
   "cell_type": "code",
   "execution_count": 3,
   "id": "c411fa72-f535-46df-9445-4121d3e48d0d",
   "metadata": {},
   "outputs": [],
   "source": [
    "import matplotlib.pyplot as plt\n",
    "import seaborn as sns\n",
    "\n",
    "sns.set_style('darkgrid')"
   ]
  },
  {
   "cell_type": "code",
   "execution_count": 4,
   "id": "2b0a76c6-ef84-4f1a-b73c-25bd0263e946",
   "metadata": {},
   "outputs": [],
   "source": [
    "# Add path to book code\n",
    "import os\n",
    "import sys\n",
    "\n",
    "sys.path.append( os.path.join( '.', 'original', 'code') )"
   ]
  },
  {
   "cell_type": "code",
   "execution_count": 5,
   "id": "d9bdeab4-e784-4afc-a7c6-7a86f41be518",
   "metadata": {},
   "outputs": [],
   "source": [
    "from original.code import nsfg, analytic, brfss"
   ]
  },
  {
   "cell_type": "markdown",
   "id": "0c66473a-68b2-4353-ac8b-80c803c61f4e",
   "metadata": {},
   "source": [
    "## Data Source"
   ]
  },
  {
   "cell_type": "code",
   "execution_count": 6,
   "id": "bed58904-c21e-4a78-927b-a090cf3e9663",
   "metadata": {},
   "outputs": [
    {
     "name": "stdout",
     "output_type": "stream",
     "text": [
      "Shape : (13593, 244)\n"
     ]
    },
    {
     "data": {
      "text/html": [
       "<div>\n",
       "<style scoped>\n",
       "    .dataframe tbody tr th:only-of-type {\n",
       "        vertical-align: middle;\n",
       "    }\n",
       "\n",
       "    .dataframe tbody tr th {\n",
       "        vertical-align: top;\n",
       "    }\n",
       "\n",
       "    .dataframe thead th {\n",
       "        text-align: right;\n",
       "    }\n",
       "</style>\n",
       "<table border=\"1\" class=\"dataframe\">\n",
       "  <thead>\n",
       "    <tr style=\"text-align: right;\">\n",
       "      <th></th>\n",
       "      <th>caseid</th>\n",
       "      <th>pregordr</th>\n",
       "      <th>howpreg_n</th>\n",
       "      <th>howpreg_p</th>\n",
       "      <th>moscurrp</th>\n",
       "      <th>nowprgdk</th>\n",
       "      <th>pregend1</th>\n",
       "      <th>pregend2</th>\n",
       "      <th>nbrnaliv</th>\n",
       "      <th>multbrth</th>\n",
       "      <th>...</th>\n",
       "      <th>laborfor_i</th>\n",
       "      <th>religion_i</th>\n",
       "      <th>metro_i</th>\n",
       "      <th>basewgt</th>\n",
       "      <th>adj_mod_basewgt</th>\n",
       "      <th>finalwgt</th>\n",
       "      <th>secu_p</th>\n",
       "      <th>sest</th>\n",
       "      <th>cmintvw</th>\n",
       "      <th>totalwgt_lb</th>\n",
       "    </tr>\n",
       "  </thead>\n",
       "  <tbody>\n",
       "    <tr>\n",
       "      <th>0</th>\n",
       "      <td>1</td>\n",
       "      <td>1</td>\n",
       "      <td>NaN</td>\n",
       "      <td>NaN</td>\n",
       "      <td>NaN</td>\n",
       "      <td>NaN</td>\n",
       "      <td>6.0</td>\n",
       "      <td>NaN</td>\n",
       "      <td>1.0</td>\n",
       "      <td>NaN</td>\n",
       "      <td>...</td>\n",
       "      <td>0</td>\n",
       "      <td>0</td>\n",
       "      <td>0</td>\n",
       "      <td>3410.389399</td>\n",
       "      <td>3869.349602</td>\n",
       "      <td>6448.271112</td>\n",
       "      <td>2</td>\n",
       "      <td>9</td>\n",
       "      <td>NaN</td>\n",
       "      <td>8.8125</td>\n",
       "    </tr>\n",
       "    <tr>\n",
       "      <th>1</th>\n",
       "      <td>1</td>\n",
       "      <td>2</td>\n",
       "      <td>NaN</td>\n",
       "      <td>NaN</td>\n",
       "      <td>NaN</td>\n",
       "      <td>NaN</td>\n",
       "      <td>6.0</td>\n",
       "      <td>NaN</td>\n",
       "      <td>1.0</td>\n",
       "      <td>NaN</td>\n",
       "      <td>...</td>\n",
       "      <td>0</td>\n",
       "      <td>0</td>\n",
       "      <td>0</td>\n",
       "      <td>3410.389399</td>\n",
       "      <td>3869.349602</td>\n",
       "      <td>6448.271112</td>\n",
       "      <td>2</td>\n",
       "      <td>9</td>\n",
       "      <td>NaN</td>\n",
       "      <td>7.8750</td>\n",
       "    </tr>\n",
       "    <tr>\n",
       "      <th>2</th>\n",
       "      <td>2</td>\n",
       "      <td>1</td>\n",
       "      <td>NaN</td>\n",
       "      <td>NaN</td>\n",
       "      <td>NaN</td>\n",
       "      <td>NaN</td>\n",
       "      <td>5.0</td>\n",
       "      <td>NaN</td>\n",
       "      <td>3.0</td>\n",
       "      <td>5.0</td>\n",
       "      <td>...</td>\n",
       "      <td>0</td>\n",
       "      <td>0</td>\n",
       "      <td>0</td>\n",
       "      <td>7226.301740</td>\n",
       "      <td>8567.549110</td>\n",
       "      <td>12999.542264</td>\n",
       "      <td>2</td>\n",
       "      <td>12</td>\n",
       "      <td>NaN</td>\n",
       "      <td>9.1250</td>\n",
       "    </tr>\n",
       "    <tr>\n",
       "      <th>3</th>\n",
       "      <td>2</td>\n",
       "      <td>2</td>\n",
       "      <td>NaN</td>\n",
       "      <td>NaN</td>\n",
       "      <td>NaN</td>\n",
       "      <td>NaN</td>\n",
       "      <td>6.0</td>\n",
       "      <td>NaN</td>\n",
       "      <td>1.0</td>\n",
       "      <td>NaN</td>\n",
       "      <td>...</td>\n",
       "      <td>0</td>\n",
       "      <td>0</td>\n",
       "      <td>0</td>\n",
       "      <td>7226.301740</td>\n",
       "      <td>8567.549110</td>\n",
       "      <td>12999.542264</td>\n",
       "      <td>2</td>\n",
       "      <td>12</td>\n",
       "      <td>NaN</td>\n",
       "      <td>7.0000</td>\n",
       "    </tr>\n",
       "    <tr>\n",
       "      <th>4</th>\n",
       "      <td>2</td>\n",
       "      <td>3</td>\n",
       "      <td>NaN</td>\n",
       "      <td>NaN</td>\n",
       "      <td>NaN</td>\n",
       "      <td>NaN</td>\n",
       "      <td>6.0</td>\n",
       "      <td>NaN</td>\n",
       "      <td>1.0</td>\n",
       "      <td>NaN</td>\n",
       "      <td>...</td>\n",
       "      <td>0</td>\n",
       "      <td>0</td>\n",
       "      <td>0</td>\n",
       "      <td>7226.301740</td>\n",
       "      <td>8567.549110</td>\n",
       "      <td>12999.542264</td>\n",
       "      <td>2</td>\n",
       "      <td>12</td>\n",
       "      <td>NaN</td>\n",
       "      <td>6.1875</td>\n",
       "    </tr>\n",
       "  </tbody>\n",
       "</table>\n",
       "<p>5 rows × 244 columns</p>\n",
       "</div>"
      ],
      "text/plain": [
       "   caseid  pregordr  howpreg_n  howpreg_p  moscurrp  nowprgdk  pregend1  \\\n",
       "0       1         1        NaN        NaN       NaN       NaN       6.0   \n",
       "1       1         2        NaN        NaN       NaN       NaN       6.0   \n",
       "2       2         1        NaN        NaN       NaN       NaN       5.0   \n",
       "3       2         2        NaN        NaN       NaN       NaN       6.0   \n",
       "4       2         3        NaN        NaN       NaN       NaN       6.0   \n",
       "\n",
       "   pregend2  nbrnaliv  multbrth  ...  laborfor_i  religion_i  metro_i  \\\n",
       "0       NaN       1.0       NaN  ...           0           0        0   \n",
       "1       NaN       1.0       NaN  ...           0           0        0   \n",
       "2       NaN       3.0       5.0  ...           0           0        0   \n",
       "3       NaN       1.0       NaN  ...           0           0        0   \n",
       "4       NaN       1.0       NaN  ...           0           0        0   \n",
       "\n",
       "       basewgt  adj_mod_basewgt      finalwgt  secu_p  sest  cmintvw  \\\n",
       "0  3410.389399      3869.349602   6448.271112       2     9      NaN   \n",
       "1  3410.389399      3869.349602   6448.271112       2     9      NaN   \n",
       "2  7226.301740      8567.549110  12999.542264       2    12      NaN   \n",
       "3  7226.301740      8567.549110  12999.542264       2    12      NaN   \n",
       "4  7226.301740      8567.549110  12999.542264       2    12      NaN   \n",
       "\n",
       "   totalwgt_lb  \n",
       "0       8.8125  \n",
       "1       7.8750  \n",
       "2       9.1250  \n",
       "3       7.0000  \n",
       "4       6.1875  \n",
       "\n",
       "[5 rows x 244 columns]"
      ]
     },
     "execution_count": 6,
     "metadata": {},
     "output_type": "execute_result"
    }
   ],
   "source": [
    "df_orig = nsfg.ReadFemPreg('original/code/2002FemPreg.dct', 'original/code/2002FemPreg.dat.gz')\n",
    "print(f'Shape : {df_orig.shape}')\n",
    "df_orig.head()"
   ]
  },
  {
   "cell_type": "code",
   "execution_count": 7,
   "id": "228a8a3b-641d-406c-a440-9f61bd5f66fb",
   "metadata": {},
   "outputs": [
    {
     "name": "stdout",
     "output_type": "stream",
     "text": [
      "Shape: (13593, 10)\n"
     ]
    }
   ],
   "source": [
    "# Focus on relevant columns\n",
    "relevant_cols = ['caseid', 'prglngth', 'outcome', 'pregordr', 'birthord', 'birthwgt_lb', 'birthwgt_oz', 'agepreg', 'finalwgt']\n",
    "preg = df_orig.loc[:, relevant_cols]  # Not using loc here will lead to SettingWithCopyWarning\n",
    "                                    # since pandas will not be able to ascertain if df is a view or a copy\n",
    "# Calculate Total Weight\n",
    "preg['totalwgt_lb'] = preg.birthwgt_lb + preg.birthwgt_oz / 16.0\n",
    "print(f'Shape: {preg.shape}')"
   ]
  },
  {
   "cell_type": "code",
   "execution_count": 8,
   "id": "3713b6e9-72aa-4d41-910e-7249a6da8ce1",
   "metadata": {},
   "outputs": [],
   "source": [
    "# Respondents Data\n",
    "resp = nsfg.ReadFemResp('original/code/2002FemResp.dct', \n",
    "                        'original/code/2002FemResp.dat.gz')"
   ]
  },
  {
   "cell_type": "code",
   "execution_count": 9,
   "id": "080999a1-96aa-456c-9d01-4adac27ea6bc",
   "metadata": {},
   "outputs": [],
   "source": [
    "# Areas of focus\n",
    "live = preg.loc[preg.outcome == 1]\n",
    "firsts = live[live.birthord == 1]\n",
    "others = live[live.birthord != 1]"
   ]
  },
  {
   "cell_type": "code",
   "execution_count": 10,
   "id": "c50d0c23-8955-4aed-a03c-19a9f0c26422",
   "metadata": {},
   "outputs": [],
   "source": [
    "baby_boom = analytic.ReadBabyBoom('original/code/babyboom.dat')"
   ]
  },
  {
   "cell_type": "code",
   "execution_count": 11,
   "id": "f06f167c-7946-4c0a-8615-0b772c1f238b",
   "metadata": {},
   "outputs": [],
   "source": [
    "behave_risk = brfss.ReadBrfss(filename='original/code/CDBRFS08.ASC.gz')"
   ]
  },
  {
   "cell_type": "markdown",
   "id": "bce3052a-cb59-4275-8bdb-ddd24eacbd35",
   "metadata": {
    "tags": []
   },
   "source": [
    "## Modeling Distributions"
   ]
  },
  {
   "cell_type": "markdown",
   "id": "d388073b-6f28-4538-a417-5cbe74740c51",
   "metadata": {},
   "source": [
    "### Terms\n",
    "* Empirical Distributions\n",
    "* Analytic Distribution\n",
    "* Complementary CDF\n",
    "* Normal Probability Plot"
   ]
  },
  {
   "cell_type": "code",
   "execution_count": 12,
   "id": "ef684aeb-a984-44b2-be06-a65ac8bbe250",
   "metadata": {},
   "outputs": [
    {
     "data": {
      "text/html": [
       "<div>\n",
       "<style scoped>\n",
       "    .dataframe tbody tr th:only-of-type {\n",
       "        vertical-align: middle;\n",
       "    }\n",
       "\n",
       "    .dataframe tbody tr th {\n",
       "        vertical-align: top;\n",
       "    }\n",
       "\n",
       "    .dataframe thead th {\n",
       "        text-align: right;\n",
       "    }\n",
       "</style>\n",
       "<table border=\"1\" class=\"dataframe\">\n",
       "  <thead>\n",
       "    <tr style=\"text-align: right;\">\n",
       "      <th></th>\n",
       "      <th>time</th>\n",
       "      <th>sex</th>\n",
       "      <th>weight_g</th>\n",
       "      <th>minutes</th>\n",
       "    </tr>\n",
       "  </thead>\n",
       "  <tbody>\n",
       "    <tr>\n",
       "      <th>0</th>\n",
       "      <td>5</td>\n",
       "      <td>1</td>\n",
       "      <td>3837</td>\n",
       "      <td>5</td>\n",
       "    </tr>\n",
       "    <tr>\n",
       "      <th>1</th>\n",
       "      <td>104</td>\n",
       "      <td>1</td>\n",
       "      <td>3334</td>\n",
       "      <td>64</td>\n",
       "    </tr>\n",
       "    <tr>\n",
       "      <th>2</th>\n",
       "      <td>118</td>\n",
       "      <td>2</td>\n",
       "      <td>3554</td>\n",
       "      <td>78</td>\n",
       "    </tr>\n",
       "    <tr>\n",
       "      <th>3</th>\n",
       "      <td>155</td>\n",
       "      <td>2</td>\n",
       "      <td>3838</td>\n",
       "      <td>115</td>\n",
       "    </tr>\n",
       "    <tr>\n",
       "      <th>4</th>\n",
       "      <td>257</td>\n",
       "      <td>2</td>\n",
       "      <td>3625</td>\n",
       "      <td>177</td>\n",
       "    </tr>\n",
       "  </tbody>\n",
       "</table>\n",
       "</div>"
      ],
      "text/plain": [
       "   time  sex  weight_g  minutes\n",
       "0     5    1      3837        5\n",
       "1   104    1      3334       64\n",
       "2   118    2      3554       78\n",
       "3   155    2      3838      115\n",
       "4   257    2      3625      177"
      ]
     },
     "execution_count": 12,
     "metadata": {},
     "output_type": "execute_result"
    }
   ],
   "source": [
    "baby_boom.head()"
   ]
  },
  {
   "cell_type": "code",
   "execution_count": 13,
   "id": "fc4872c8-d61a-4d53-b3c9-f62b6ab1a658",
   "metadata": {},
   "outputs": [],
   "source": [
    "def create_cdf(ser):\n",
    "    return ser.value_counts(normalize=True).sort_index().cumsum()"
   ]
  },
  {
   "cell_type": "markdown",
   "id": "8d58d1e6-1adc-466a-84ae-9fccfa80c9c2",
   "metadata": {},
   "source": [
    "### Exponential Distribution"
   ]
  },
  {
   "cell_type": "code",
   "execution_count": 14,
   "id": "17f0d448-c941-4917-9782-fcfc4140eb8c",
   "metadata": {},
   "outputs": [
    {
     "data": {
      "image/png": "[encoded data removed]",
      "text/plain": [
       "<Figure size 432x288 with 1 Axes>"
      ]
     },
     "metadata": {},
     "output_type": "display_data"
    }
   ],
   "source": [
    "# Interarrival times of baby births\n",
    "bb_diffs = baby_boom.minutes.diff()\n",
    "bb_diffs_cdf = create_cdf(bb_diffs)\n",
    "bb_diffs_cdf.plot(xlabel='Minutes', ylabel='CDF');"
   ]
  },
  {
   "cell_type": "code",
   "execution_count": 15,
   "id": "f5d96b78-dbbc-4d5b-ac09-0d865ef0aa8e",
   "metadata": {},
   "outputs": [
    {
     "data": {
      "image/png": "[encoded data removed]",
      "text/plain": [
       "<Figure size 432x288 with 1 Axes>"
      ]
     },
     "metadata": {},
     "output_type": "display_data"
    }
   ],
   "source": [
    "# Plot complementary CDF in log-y scale \n",
    "# Exponential distribution should give a straight line\n",
    "(1-bb_diffs_cdf).plot(logy=True, ylabel='ccdf', xlabel='minutes');"
   ]
  },
  {
   "cell_type": "markdown",
   "id": "96fba308-2fcf-42ab-b903-b6ac411f9cb7",
   "metadata": {},
   "source": [
    "### Normal Distribution"
   ]
  },
  {
   "cell_type": "code",
   "execution_count": 16,
   "id": "bdd251e5-7051-4064-b6f0-1e0b84887f2a",
   "metadata": {},
   "outputs": [
    {
     "data": {
      "text/plain": [
       "0.5"
      ]
     },
     "execution_count": 16,
     "metadata": {},
     "output_type": "execute_result"
    }
   ],
   "source": [
    "# Normal Distribution\n",
    "stats.norm.cdf(0)"
   ]
  },
  {
   "cell_type": "code",
   "execution_count": 17,
   "id": "66357fb4-557d-444c-948d-6d61d4b8d515",
   "metadata": {},
   "outputs": [],
   "source": [
    "# Normal Probability Plot\n",
    "def normal_prob_plot(samples):\n",
    "    n = len(samples)\n",
    "    normal_samples = np.random.normal(0, 1, n)\n",
    "    return np.sort(normal_samples), np.sort(samples)"
   ]
  },
  {
   "cell_type": "code",
   "execution_count": 18,
   "id": "43e9ed73-b754-4cca-bd90-47022da90efd",
   "metadata": {},
   "outputs": [
    {
     "data": {
      "image/png": "[encoded data removed]",
      "text/plain": [
       "<Figure size 432x288 with 1 Axes>"
      ]
     },
     "metadata": {},
     "output_type": "display_data"
    }
   ],
   "source": [
    "# Normal Probability Plot for Random Samples\n",
    "samples = np.random.normal(2, 2, 100)\n",
    "x, y = normal_prob_plot(samples)\n",
    "plt.plot(x, y);"
   ]
  },
  {
   "cell_type": "code",
   "execution_count": 19,
   "id": "4306fbc9-4e5d-4ff6-87c4-48d8e6403c94",
   "metadata": {},
   "outputs": [
    {
     "data": {
      "image/png": "[encoded data removed]",
      "text/plain": [
       "<Figure size 432x288 with 1 Axes>"
      ]
     },
     "metadata": {},
     "output_type": "display_data"
    }
   ],
   "source": [
    "# Check if the normal distribution is a good fit for birth weights\n",
    "live_weights = live.totalwgt_lb.dropna()\n",
    "x, y = normal_prob_plot(live_weights)\n",
    "plt.plot(x, y, label='live');\n",
    "plt.ylabel('Birth weight (lbs)')\n",
    "plt.xlabel('Standard deviation from mean')\n",
    "\n",
    "intercept = live_weights.mean()\n",
    "slope = live_weights.std()\n",
    "plt.plot(x, slope * x + intercept, c='gray')\n",
    "\n",
    "full_term_weights = live[live.prglngth >= 36].totalwgt_lb.dropna()\n",
    "x, y = normal_prob_plot(full_term_weights)\n",
    "plt.plot(x, y, label='full term')\n",
    "\n",
    "plt.legend();"
   ]
  },
  {
   "cell_type": "code",
   "execution_count": 20,
   "id": "f574dd29-6039-47a5-8d80-2f2964e951d3",
   "metadata": {},
   "outputs": [],
   "source": [
    "def create_normal_model(values):\n",
    "    return stats.norm(values.mean(), values.std())"
   ]
  },
  {
   "cell_type": "markdown",
   "id": "f27e0b1e-e5d9-4381-8314-4f030ca428b8",
   "metadata": {},
   "source": [
    "### Lognormal Distribution\n",
    "\n",
    "* Logarith of values have a normal distribution"
   ]
  },
  {
   "cell_type": "code",
   "execution_count": 21,
   "id": "7081a4be-d52f-4633-a906-b1de80f9f1ce",
   "metadata": {},
   "outputs": [
    {
     "data": {
      "text/html": [
       "<div>\n",
       "<style scoped>\n",
       "    .dataframe tbody tr th:only-of-type {\n",
       "        vertical-align: middle;\n",
       "    }\n",
       "\n",
       "    .dataframe tbody tr th {\n",
       "        vertical-align: top;\n",
       "    }\n",
       "\n",
       "    .dataframe thead th {\n",
       "        text-align: right;\n",
       "    }\n",
       "</style>\n",
       "<table border=\"1\" class=\"dataframe\">\n",
       "  <thead>\n",
       "    <tr style=\"text-align: right;\">\n",
       "      <th></th>\n",
       "      <th>age</th>\n",
       "      <th>sex</th>\n",
       "      <th>wtyrago</th>\n",
       "      <th>finalwt</th>\n",
       "      <th>wtkg2</th>\n",
       "      <th>htm3</th>\n",
       "    </tr>\n",
       "  </thead>\n",
       "  <tbody>\n",
       "    <tr>\n",
       "      <th>0</th>\n",
       "      <td>82.0</td>\n",
       "      <td>2</td>\n",
       "      <td>76.363636</td>\n",
       "      <td>185.870345</td>\n",
       "      <td>70.91</td>\n",
       "      <td>157.0</td>\n",
       "    </tr>\n",
       "    <tr>\n",
       "      <th>1</th>\n",
       "      <td>65.0</td>\n",
       "      <td>2</td>\n",
       "      <td>72.727273</td>\n",
       "      <td>126.603027</td>\n",
       "      <td>72.73</td>\n",
       "      <td>163.0</td>\n",
       "    </tr>\n",
       "    <tr>\n",
       "      <th>2</th>\n",
       "      <td>48.0</td>\n",
       "      <td>2</td>\n",
       "      <td>NaN</td>\n",
       "      <td>181.063210</td>\n",
       "      <td>NaN</td>\n",
       "      <td>165.0</td>\n",
       "    </tr>\n",
       "    <tr>\n",
       "      <th>3</th>\n",
       "      <td>61.0</td>\n",
       "      <td>1</td>\n",
       "      <td>73.636364</td>\n",
       "      <td>517.926275</td>\n",
       "      <td>73.64</td>\n",
       "      <td>170.0</td>\n",
       "    </tr>\n",
       "    <tr>\n",
       "      <th>4</th>\n",
       "      <td>26.0</td>\n",
       "      <td>1</td>\n",
       "      <td>88.636364</td>\n",
       "      <td>1252.624630</td>\n",
       "      <td>88.64</td>\n",
       "      <td>185.0</td>\n",
       "    </tr>\n",
       "  </tbody>\n",
       "</table>\n",
       "</div>"
      ],
      "text/plain": [
       "    age  sex    wtyrago      finalwt  wtkg2   htm3\n",
       "0  82.0    2  76.363636   185.870345  70.91  157.0\n",
       "1  65.0    2  72.727273   126.603027  72.73  163.0\n",
       "2  48.0    2        NaN   181.063210    NaN  165.0\n",
       "3  61.0    1  73.636364   517.926275  73.64  170.0\n",
       "4  26.0    1  88.636364  1252.624630  88.64  185.0"
      ]
     },
     "execution_count": 21,
     "metadata": {},
     "output_type": "execute_result"
    }
   ],
   "source": [
    "behave_risk.head()"
   ]
  },
  {
   "cell_type": "code",
   "execution_count": 22,
   "id": "4ffc1a23-9f28-4d45-a9b1-49c63aaaa7d0",
   "metadata": {},
   "outputs": [
    {
     "data": {
      "image/png": "[encoded data removed]",
      "text/plain": [
       "<Figure size 432x288 with 1 Axes>"
      ]
     },
     "metadata": {},
     "output_type": "display_data"
    }
   ],
   "source": [
    "# CDF of weights\n",
    "weights = behave_risk.wtkg2.dropna()\n",
    "weights_cdf = create_cdf(weights)\n",
    "weights_cdf.plot(xlabel='adult weight (kg)', ylabel='CDF', xlim=[0, 200], label='weights');\n",
    "\n",
    "# CDF of normal model\n",
    "normal_model = create_normal_model(weights)\n",
    "norm_model_cdf = normal_model.cdf(x=weights_cdf.index)\n",
    "plt.plot(weights_cdf.index, norm_model_cdf, label='model');\n",
    "plt.legend();\n",
    "plt.title('Normal model');"
   ]
  },
  {
   "cell_type": "code",
   "execution_count": 23,
   "id": "a1b4e7ac-d81c-43c4-b394-452b826ad5af",
   "metadata": {},
   "outputs": [
    {
     "data": {
      "image/png": "[encoded data removed]",
      "text/plain": [
       "<Figure size 432x288 with 1 Axes>"
      ]
     },
     "metadata": {},
     "output_type": "display_data"
    }
   ],
   "source": [
    "# CDF of log weights\n",
    "log_weights = np.log10(behave_risk.wtkg2.dropna())\n",
    "log_weights_cdf = create_cdf(log_weights)\n",
    "log_weights_cdf.plot(xlabel='adult weight (log10 kg)', ylabel='CDF', label='weights');\n",
    "\n",
    "# CDF of lognormal model\n",
    "log_normal_model = create_normal_model(log_weights)\n",
    "log_normal_model_cdf = log_normal_model.cdf(x=log_weights)\n",
    "plt.plot(log_weights_cdf.index, norm_model_cdf, label='model');\n",
    "plt.legend();\n",
    "plt.title('Log normal model');"
   ]
  },
  {
   "cell_type": "code",
   "execution_count": 24,
   "id": "990139a9-6ab2-444b-87da-03e2af895b3a",
   "metadata": {},
   "outputs": [
    {
     "data": {
      "image/png": "[encoded data removed]",
      "text/plain": [
       "<Figure size 720x288 with 2 Axes>"
      ]
     },
     "metadata": {},
     "output_type": "display_data"
    }
   ],
   "source": [
    "# Check which model better fits using normal probability plots\n",
    "## Normal Model\n",
    "fig, (ax_norm, ax_log) = plt.subplots(1, 2, figsize=(10, 4))\n",
    "x, y = normal_prob_plot(weights)\n",
    "ax_norm.plot(x, y)\n",
    "ax_norm.set_title('Normal')\n",
    "\n",
    "intercept = weights.mean()\n",
    "slope = weights.std()\n",
    "ax_norm.plot(x, slope * x + intercept, c='gray')\n",
    "\n",
    "## Log Normal Model\n",
    "x, y = normal_prob_plot(log_weights)\n",
    "ax_log.plot(x, y);\n",
    "ax_log.set_title('Log Normal')\n",
    "\n",
    "intercept = log_weights.mean()\n",
    "slope = log_weights.std()\n",
    "ax_log.plot(x, slope * x + intercept, c='gray');"
   ]
  },
  {
   "cell_type": "code",
   "execution_count": null,
   "id": "ec07fa41-37ed-4ecf-af6c-53e559ef2ec3",
   "metadata": {},
   "outputs": [],
   "source": []
  }
 ],
 "metadata": {
  "kernelspec": {
   "display_name": "Python 3",
   "language": "python",
   "name": "python3"
  },
  "language_info": {
   "codemirror_mode": {
    "name": "ipython",
    "version": 3
   },
   "file_extension": ".py",
   "mimetype": "text/x-python",
   "name": "python",
   "nbconvert_exporter": "python",
   "pygments_lexer": "ipython3",
   "version": "3.7.11"
  }
 },
 "nbformat": 4,
 "nbformat_minor": 5
}
