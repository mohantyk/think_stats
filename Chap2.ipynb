{
 "cells": [
  {
   "cell_type": "markdown",
   "id": "ed4a9e91-27e0-4005-afcb-835dc6d2bc1e",
   "metadata": {},
   "source": [
    "## Imports"
   ]
  },
  {
   "cell_type": "code",
   "execution_count": 1,
   "id": "5dab3543-aa20-4c14-8f8a-e9bd4a11f172",
   "metadata": {},
   "outputs": [],
   "source": [
    "import pandas as pd\n",
    "import numpy as np\n",
    "import math"
   ]
  },
  {
   "cell_type": "code",
   "execution_count": 2,
   "id": "0546e52c-bdb6-4f78-8828-d0456bab76e6",
   "metadata": {},
   "outputs": [],
   "source": [
    "from collections import defaultdict"
   ]
  },
  {
   "cell_type": "code",
   "execution_count": 3,
   "id": "c411fa72-f535-46df-9445-4121d3e48d0d",
   "metadata": {},
   "outputs": [],
   "source": [
    "import matplotlib.pyplot as plt\n",
    "import seaborn as sns\n",
    "\n",
    "sns.set_style('darkgrid')"
   ]
  },
  {
   "cell_type": "code",
   "execution_count": 4,
   "id": "2b0a76c6-ef84-4f1a-b73c-25bd0263e946",
   "metadata": {},
   "outputs": [],
   "source": [
    "# Add path to book code\n",
    "import os\n",
    "import sys\n",
    "\n",
    "sys.path.append( os.path.join( '.', 'original', 'code') )"
   ]
  },
  {
   "cell_type": "code",
   "execution_count": 5,
   "id": "d9bdeab4-e784-4afc-a7c6-7a86f41be518",
   "metadata": {},
   "outputs": [],
   "source": [
    "from original.code import nsfg"
   ]
  },
  {
   "cell_type": "markdown",
   "id": "0c66473a-68b2-4353-ac8b-80c803c61f4e",
   "metadata": {},
   "source": [
    "## Data Source"
   ]
  },
  {
   "cell_type": "code",
   "execution_count": 6,
   "id": "bed58904-c21e-4a78-927b-a090cf3e9663",
   "metadata": {},
   "outputs": [
    {
     "name": "stdout",
     "output_type": "stream",
     "text": [
      "Shape : (13593, 244)\n"
     ]
    },
    {
     "data": {
      "text/html": [
       "<div>\n",
       "<style scoped>\n",
       "    .dataframe tbody tr th:only-of-type {\n",
       "        vertical-align: middle;\n",
       "    }\n",
       "\n",
       "    .dataframe tbody tr th {\n",
       "        vertical-align: top;\n",
       "    }\n",
       "\n",
       "    .dataframe thead th {\n",
       "        text-align: right;\n",
       "    }\n",
       "</style>\n",
       "<table border=\"1\" class=\"dataframe\">\n",
       "  <thead>\n",
       "    <tr style=\"text-align: right;\">\n",
       "      <th></th>\n",
       "      <th>caseid</th>\n",
       "      <th>pregordr</th>\n",
       "      <th>howpreg_n</th>\n",
       "      <th>howpreg_p</th>\n",
       "      <th>moscurrp</th>\n",
       "      <th>nowprgdk</th>\n",
       "      <th>pregend1</th>\n",
       "      <th>pregend2</th>\n",
       "      <th>nbrnaliv</th>\n",
       "      <th>multbrth</th>\n",
       "      <th>...</th>\n",
       "      <th>laborfor_i</th>\n",
       "      <th>religion_i</th>\n",
       "      <th>metro_i</th>\n",
       "      <th>basewgt</th>\n",
       "      <th>adj_mod_basewgt</th>\n",
       "      <th>finalwgt</th>\n",
       "      <th>secu_p</th>\n",
       "      <th>sest</th>\n",
       "      <th>cmintvw</th>\n",
       "      <th>totalwgt_lb</th>\n",
       "    </tr>\n",
       "  </thead>\n",
       "  <tbody>\n",
       "    <tr>\n",
       "      <th>0</th>\n",
       "      <td>1</td>\n",
       "      <td>1</td>\n",
       "      <td>NaN</td>\n",
       "      <td>NaN</td>\n",
       "      <td>NaN</td>\n",
       "      <td>NaN</td>\n",
       "      <td>6.0</td>\n",
       "      <td>NaN</td>\n",
       "      <td>1.0</td>\n",
       "      <td>NaN</td>\n",
       "      <td>...</td>\n",
       "      <td>0</td>\n",
       "      <td>0</td>\n",
       "      <td>0</td>\n",
       "      <td>3410.389399</td>\n",
       "      <td>3869.349602</td>\n",
       "      <td>6448.271112</td>\n",
       "      <td>2</td>\n",
       "      <td>9</td>\n",
       "      <td>NaN</td>\n",
       "      <td>8.8125</td>\n",
       "    </tr>\n",
       "    <tr>\n",
       "      <th>1</th>\n",
       "      <td>1</td>\n",
       "      <td>2</td>\n",
       "      <td>NaN</td>\n",
       "      <td>NaN</td>\n",
       "      <td>NaN</td>\n",
       "      <td>NaN</td>\n",
       "      <td>6.0</td>\n",
       "      <td>NaN</td>\n",
       "      <td>1.0</td>\n",
       "      <td>NaN</td>\n",
       "      <td>...</td>\n",
       "      <td>0</td>\n",
       "      <td>0</td>\n",
       "      <td>0</td>\n",
       "      <td>3410.389399</td>\n",
       "      <td>3869.349602</td>\n",
       "      <td>6448.271112</td>\n",
       "      <td>2</td>\n",
       "      <td>9</td>\n",
       "      <td>NaN</td>\n",
       "      <td>7.8750</td>\n",
       "    </tr>\n",
       "    <tr>\n",
       "      <th>2</th>\n",
       "      <td>2</td>\n",
       "      <td>1</td>\n",
       "      <td>NaN</td>\n",
       "      <td>NaN</td>\n",
       "      <td>NaN</td>\n",
       "      <td>NaN</td>\n",
       "      <td>5.0</td>\n",
       "      <td>NaN</td>\n",
       "      <td>3.0</td>\n",
       "      <td>5.0</td>\n",
       "      <td>...</td>\n",
       "      <td>0</td>\n",
       "      <td>0</td>\n",
       "      <td>0</td>\n",
       "      <td>7226.301740</td>\n",
       "      <td>8567.549110</td>\n",
       "      <td>12999.542264</td>\n",
       "      <td>2</td>\n",
       "      <td>12</td>\n",
       "      <td>NaN</td>\n",
       "      <td>9.1250</td>\n",
       "    </tr>\n",
       "    <tr>\n",
       "      <th>3</th>\n",
       "      <td>2</td>\n",
       "      <td>2</td>\n",
       "      <td>NaN</td>\n",
       "      <td>NaN</td>\n",
       "      <td>NaN</td>\n",
       "      <td>NaN</td>\n",
       "      <td>6.0</td>\n",
       "      <td>NaN</td>\n",
       "      <td>1.0</td>\n",
       "      <td>NaN</td>\n",
       "      <td>...</td>\n",
       "      <td>0</td>\n",
       "      <td>0</td>\n",
       "      <td>0</td>\n",
       "      <td>7226.301740</td>\n",
       "      <td>8567.549110</td>\n",
       "      <td>12999.542264</td>\n",
       "      <td>2</td>\n",
       "      <td>12</td>\n",
       "      <td>NaN</td>\n",
       "      <td>7.0000</td>\n",
       "    </tr>\n",
       "    <tr>\n",
       "      <th>4</th>\n",
       "      <td>2</td>\n",
       "      <td>3</td>\n",
       "      <td>NaN</td>\n",
       "      <td>NaN</td>\n",
       "      <td>NaN</td>\n",
       "      <td>NaN</td>\n",
       "      <td>6.0</td>\n",
       "      <td>NaN</td>\n",
       "      <td>1.0</td>\n",
       "      <td>NaN</td>\n",
       "      <td>...</td>\n",
       "      <td>0</td>\n",
       "      <td>0</td>\n",
       "      <td>0</td>\n",
       "      <td>7226.301740</td>\n",
       "      <td>8567.549110</td>\n",
       "      <td>12999.542264</td>\n",
       "      <td>2</td>\n",
       "      <td>12</td>\n",
       "      <td>NaN</td>\n",
       "      <td>6.1875</td>\n",
       "    </tr>\n",
       "  </tbody>\n",
       "</table>\n",
       "<p>5 rows × 244 columns</p>\n",
       "</div>"
      ],
      "text/plain": [
       "   caseid  pregordr  howpreg_n  howpreg_p  moscurrp  nowprgdk  pregend1  \\\n",
       "0       1         1        NaN        NaN       NaN       NaN       6.0   \n",
       "1       1         2        NaN        NaN       NaN       NaN       6.0   \n",
       "2       2         1        NaN        NaN       NaN       NaN       5.0   \n",
       "3       2         2        NaN        NaN       NaN       NaN       6.0   \n",
       "4       2         3        NaN        NaN       NaN       NaN       6.0   \n",
       "\n",
       "   pregend2  nbrnaliv  multbrth  ...  laborfor_i  religion_i  metro_i  \\\n",
       "0       NaN       1.0       NaN  ...           0           0        0   \n",
       "1       NaN       1.0       NaN  ...           0           0        0   \n",
       "2       NaN       3.0       5.0  ...           0           0        0   \n",
       "3       NaN       1.0       NaN  ...           0           0        0   \n",
       "4       NaN       1.0       NaN  ...           0           0        0   \n",
       "\n",
       "       basewgt  adj_mod_basewgt      finalwgt  secu_p  sest  cmintvw  \\\n",
       "0  3410.389399      3869.349602   6448.271112       2     9      NaN   \n",
       "1  3410.389399      3869.349602   6448.271112       2     9      NaN   \n",
       "2  7226.301740      8567.549110  12999.542264       2    12      NaN   \n",
       "3  7226.301740      8567.549110  12999.542264       2    12      NaN   \n",
       "4  7226.301740      8567.549110  12999.542264       2    12      NaN   \n",
       "\n",
       "   totalwgt_lb  \n",
       "0       8.8125  \n",
       "1       7.8750  \n",
       "2       9.1250  \n",
       "3       7.0000  \n",
       "4       6.1875  \n",
       "\n",
       "[5 rows x 244 columns]"
      ]
     },
     "execution_count": 6,
     "metadata": {},
     "output_type": "execute_result"
    }
   ],
   "source": [
    "df_orig = nsfg.ReadFemPreg('original/code/2002FemPreg.dct', 'original/code/2002FemPreg.dat.gz')\n",
    "print(f'Shape : {df_orig.shape}')\n",
    "df_orig.head()"
   ]
  },
  {
   "cell_type": "code",
   "execution_count": 7,
   "id": "228a8a3b-641d-406c-a440-9f61bd5f66fb",
   "metadata": {},
   "outputs": [
    {
     "name": "stdout",
     "output_type": "stream",
     "text": [
      "Shape: (13593, 9)\n"
     ]
    }
   ],
   "source": [
    "# Focus on relevant columns\n",
    "relevant_cols = ['caseid', 'prglngth', 'outcome', 'pregordr', 'birthord', 'birthwgt_lb', 'birthwgt_oz', 'agepreg', 'finalwgt']\n",
    "preg = df_orig.loc[:, relevant_cols]  # Not using loc here will lead to SettingWithCopyWarning\n",
    "                                    # since pandas will not be able to ascertain if df is a view or a copy\n",
    "print(f'Shape: {preg.shape}')"
   ]
  },
  {
   "cell_type": "code",
   "execution_count": 8,
   "id": "46811f53-1146-4332-abe9-c06269d85c2e",
   "metadata": {},
   "outputs": [],
   "source": [
    "# Calculate total weight\n",
    "preg['totalwgt_lb'] = preg.birthwgt_lb + preg.birthwgt_oz / 16.0"
   ]
  },
  {
   "cell_type": "code",
   "execution_count": 9,
   "id": "3713b6e9-72aa-4d41-910e-7249a6da8ce1",
   "metadata": {},
   "outputs": [],
   "source": [
    "# Respondents Data\n",
    "resp = nsfg.ReadFemResp('original/code/2002FemResp.dct', \n",
    "                        'original/code/2002FemResp.dat.gz')"
   ]
  },
  {
   "cell_type": "markdown",
   "id": "bce3052a-cb59-4275-8bdb-ddd24eacbd35",
   "metadata": {
    "tags": []
   },
   "source": [
    "## Analysis"
   ]
  },
  {
   "cell_type": "markdown",
   "id": "d08af209-fc8a-4283-be55-e48fb3c362ff",
   "metadata": {},
   "source": [
    "#### Histograms"
   ]
  },
  {
   "cell_type": "code",
   "execution_count": 10,
   "id": "a6f79404-5ef4-4e30-bbf6-2c3b4ee0de0a",
   "metadata": {},
   "outputs": [],
   "source": [
    "# Focus on live births\n",
    "live = preg[preg.outcome == 1].copy()"
   ]
  },
  {
   "cell_type": "code",
   "execution_count": 11,
   "id": "d90d9e7f-46db-4cbb-b835-a8e4967b7492",
   "metadata": {},
   "outputs": [
    {
     "data": {
      "image/png": "[encoded data removed]",
      "text/plain": [
       "<Figure size 360x360 with 1 Axes>"
      ]
     },
     "metadata": {},
     "output_type": "display_data"
    }
   ],
   "source": [
    "# Histogram of baby weights\n",
    "sns.displot(live.birthwgt_lb, bins=np.arange(0.5, 15.5, 1));"
   ]
  },
  {
   "cell_type": "code",
   "execution_count": 12,
   "id": "ad69a002-4f8b-47d8-8a38-af4049ed675e",
   "metadata": {},
   "outputs": [
    {
     "data": {
      "image/png": "[encoded data removed]",
      "text/plain": [
       "<Figure size 360x360 with 1 Axes>"
      ]
     },
     "metadata": {},
     "output_type": "display_data"
    }
   ],
   "source": [
    "# Histogram of baby weight (oz part)\n",
    "sns.displot(live.birthwgt_oz, bins=np.arange(-0.5, 16.5, 1));"
   ]
  },
  {
   "cell_type": "code",
   "execution_count": 13,
   "id": "6db5828b-4fdb-4fc5-b929-72af910b66a6",
   "metadata": {},
   "outputs": [
    {
     "data": {
      "image/png": "[encoded data removed]",
      "text/plain": [
       "<Figure size 360x360 with 1 Axes>"
      ]
     },
     "metadata": {},
     "output_type": "display_data"
    }
   ],
   "source": [
    "# Mother's age\n",
    "sns.displot(live.agepreg);"
   ]
  },
  {
   "cell_type": "code",
   "execution_count": 14,
   "id": "63719822-5e6a-4e4c-a1d2-928b09ecbcf1",
   "metadata": {},
   "outputs": [
    {
     "data": {
      "image/png": "[encoded data removed]",
      "text/plain": [
       "<Figure size 360x360 with 1 Axes>"
      ]
     },
     "metadata": {},
     "output_type": "display_data"
    }
   ],
   "source": [
    "# Pregnancy lengths\n",
    "sns.displot(live.prglngth);"
   ]
  },
  {
   "cell_type": "markdown",
   "id": "4bbd92e4-a70e-4762-acf8-d32b25d8c2c7",
   "metadata": {},
   "source": [
    "Q. Do firstborns tend to be early? "
   ]
  },
  {
   "cell_type": "code",
   "execution_count": 15,
   "id": "8c04f53c-77f5-4a10-8265-1c8d3a30fc29",
   "metadata": {},
   "outputs": [],
   "source": [
    "firsts = live[live.birthord == 1]\n",
    "others = live[live.birthord != 1]"
   ]
  },
  {
   "cell_type": "code",
   "execution_count": 16,
   "id": "627d477d-0851-4ad9-b9f1-eb06a5cac961",
   "metadata": {},
   "outputs": [
    {
     "data": {
      "image/png": "[encoded data removed]",
      "text/plain": [
       "<Figure size 432x288 with 1 Axes>"
      ]
     },
     "metadata": {},
     "output_type": "display_data"
    }
   ],
   "source": [
    "fig, ax = plt.subplots()\n",
    "ax.hist(firsts.prglngth, label='first', \n",
    "             color='r', alpha=0.3,\n",
    "             rwidth = 0.4, bins=np.arange(0.5, 50.5, 1),\n",
    "             align='mid')\n",
    "\n",
    "ax.hist(others.prglngth, label='first', \n",
    "             color='b', alpha=0.3,\n",
    "             rwidth = 0.4, bins=np.arange(0.5, 50.5, 1),\n",
    "             align='right')\n",
    "\n",
    "\n",
    "plt.xlim([27, 46])\n",
    "plt.xticks(np.arange(27, 46))\n",
    "plt.legend();"
   ]
  },
  {
   "cell_type": "markdown",
   "id": "1e5e1f57-b862-4e8d-80b3-2a4f29818c10",
   "metadata": {},
   "source": [
    "#### Summarizing Distributions"
   ]
  },
  {
   "cell_type": "markdown",
   "id": "1ac108d7-897a-40c9-8fdb-d80a9ae8b775",
   "metadata": {},
   "source": [
    "Descriptive Statistics \n",
    "* Central Tendency\n",
    "* Modes\n",
    "* Spread\n",
    "* Tails\n",
    "* Outliers"
   ]
  },
  {
   "cell_type": "code",
   "execution_count": 17,
   "id": "5f5aeb99-ae3e-4504-a44c-6e6ae8f33f9e",
   "metadata": {},
   "outputs": [
    {
     "name": "stdout",
     "output_type": "stream",
     "text": [
      "Mean : 38.56 weeks\n",
      "Var : 7.30\n",
      "Std : 2.70 weeks\n"
     ]
    }
   ],
   "source": [
    "print(f'Mean : {live.prglngth.mean():.2f} weeks')\n",
    "print(f'Var : {live.prglngth.var():.2f}')\n",
    "print(f'Std : {live.prglngth.std():.2f} weeks')"
   ]
  },
  {
   "cell_type": "markdown",
   "id": "4ad75fc7-844e-4647-867e-27a409fdc580",
   "metadata": {},
   "source": [
    "#### Effect Size"
   ]
  },
  {
   "cell_type": "code",
   "execution_count": 18,
   "id": "642a03fc-7be1-4c77-a598-7c09742d4ec1",
   "metadata": {},
   "outputs": [
    {
     "name": "stdout",
     "output_type": "stream",
     "text": [
      "Cohen Effect Size (Pregnancy Length): 0.0289\n"
     ]
    }
   ],
   "source": [
    "def CohenEffectSize(group1, group2):\n",
    "    diff = group1.mean() - group2.mean()\n",
    "    var1 = group1.var()\n",
    "    var2 = group2.var()\n",
    "    n1, n2 = len(group1), len(group2)\n",
    "    pooled_var = (n1*var1 + n2*var2)/(n1+n2)\n",
    "    effect_size = diff/math.sqrt(pooled_var)\n",
    "    return effect_size\n",
    " \n",
    "print(f'Cohen Effect Size (Pregnancy Length): {CohenEffectSize(firsts.prglngth, others.prglngth):.4f}')"
   ]
  },
  {
   "cell_type": "markdown",
   "id": "db7a88b8-c062-49fb-b1b1-a414dcc98186",
   "metadata": {},
   "source": [
    "# Exercises"
   ]
  },
  {
   "cell_type": "markdown",
   "id": "beb1ce5c-8919-44f2-95a5-68927a129e26",
   "metadata": {},
   "source": [
    "Using the variable `totalwgt_lb`, investigate whether first babies are lighter or heavier than others. \n",
    "\n",
    "Compute Cohen’s effect size to quantify the difference between the groups.  How does it compare to the difference in pregnancy length?"
   ]
  },
  {
   "cell_type": "code",
   "execution_count": 19,
   "id": "ba79c77e-27ef-4969-90a6-dbae9e46dd01",
   "metadata": {},
   "outputs": [
    {
     "name": "stdout",
     "output_type": "stream",
     "text": [
      "Mean weight for firstborns : 7.20 lbs\n",
      "Mean weight for others : 7.33 lbs\n"
     ]
    }
   ],
   "source": [
    "print(f'Mean weight for firstborns : {firsts.totalwgt_lb.mean():.2f} lbs')\n",
    "print(f'Mean weight for others : {others.totalwgt_lb.mean():.2f} lbs')"
   ]
  },
  {
   "cell_type": "code",
   "execution_count": 20,
   "id": "883d56d6-5f65-4dc9-9297-d2657b4c7c48",
   "metadata": {},
   "outputs": [
    {
     "name": "stdout",
     "output_type": "stream",
     "text": [
      "Cohen Effect Size: -0.089\n"
     ]
    }
   ],
   "source": [
    "print(f'Cohen Effect Size: {CohenEffectSize(firsts.totalwgt_lb, others.totalwgt_lb):.3f}')"
   ]
  },
  {
   "cell_type": "markdown",
   "id": "115d9225-fccb-4811-8447-697d6d827c94",
   "metadata": {},
   "source": [
    "Make a histogram of <tt>totincr</tt> the total income for the respondent's family.  To interpret the codes see the [codebook](http://www.icpsr.umich.edu/nsfg6/Controller?displayPage=labelDetails&fileCode=FEM&section=R&subSec=7876&srtLabel=607543)."
   ]
  },
  {
   "cell_type": "code",
   "execution_count": 21,
   "id": "0a332429-5dc7-45b0-9e96-97420ba74f22",
   "metadata": {},
   "outputs": [
    {
     "data": {
      "image/png": "[encoded data removed]",
      "text/plain": [
       "<Figure size 360x360 with 1 Axes>"
      ]
     },
     "metadata": {},
     "output_type": "display_data"
    }
   ],
   "source": [
    "sns.displot(resp.totincr, bins=np.arange(0.5, 16.5));"
   ]
  },
  {
   "cell_type": "markdown",
   "id": "6b2fc7ed-0ac0-4704-8367-b7084da79329",
   "metadata": {},
   "source": [
    "Make a histogram of <tt>age_r</tt>, the respondent's age at the time of interview."
   ]
  },
  {
   "cell_type": "code",
   "execution_count": 22,
   "id": "b4d2bb4f-ffcb-43df-bb53-900545b04e4c",
   "metadata": {},
   "outputs": [
    {
     "data": {
      "image/png": "[encoded data removed]",
      "text/plain": [
       "<Figure size 360x360 with 1 Axes>"
      ]
     },
     "metadata": {},
     "output_type": "display_data"
    }
   ],
   "source": [
    "sns.displot(resp.age_r, bins=np.arange(14.5, 45.5));"
   ]
  },
  {
   "cell_type": "markdown",
   "id": "663aeb70-a0ad-46bd-8513-c9eb883ba3d7",
   "metadata": {},
   "source": [
    "Make a histogram of <tt>numfmhh</tt>, the number of people in the respondent's household."
   ]
  },
  {
   "cell_type": "code",
   "execution_count": 23,
   "id": "7e9cc5be-cf6d-492a-a700-92f14b182852",
   "metadata": {},
   "outputs": [
    {
     "data": {
      "image/png": "[encoded data removed]",
      "text/plain": [
       "<Figure size 360x360 with 1 Axes>"
      ]
     },
     "metadata": {},
     "output_type": "display_data"
    }
   ],
   "source": [
    "g = sns.displot(resp.numfmhh)\n",
    "g.set_axis_labels('Household size');"
   ]
  },
  {
   "cell_type": "markdown",
   "id": "63fa23cd-3741-43e3-8992-be66b75cb3c4",
   "metadata": {},
   "source": [
    "Make a histogram of <tt>parity</tt>, the number of children borne by the respondent.  How would you describe this distribution?"
   ]
  },
  {
   "cell_type": "code",
   "execution_count": 24,
   "id": "7d7a2fa6-74e5-48b1-b153-fabb438e93da",
   "metadata": {},
   "outputs": [
    {
     "data": {
      "image/png": "[encoded data removed]",
      "text/plain": [
       "<Figure size 360x360 with 1 Axes>"
      ]
     },
     "metadata": {},
     "output_type": "display_data"
    }
   ],
   "source": [
    "sns.displot(resp.parity, bins=np.arange(-0.5, 23.5 ));"
   ]
  },
  {
   "cell_type": "code",
   "execution_count": 25,
   "id": "56c22b31-2854-4abb-ade0-1a815bace1ce",
   "metadata": {},
   "outputs": [
    {
     "data": {
      "text/plain": [
       "0     3230\n",
       "1     1519\n",
       "2     1603\n",
       "3      828\n",
       "4      309\n",
       "5       95\n",
       "6       29\n",
       "7       15\n",
       "8        8\n",
       "9        2\n",
       "10       3\n",
       "16       1\n",
       "22       1\n",
       "Name: parity, dtype: int64"
      ]
     },
     "execution_count": 25,
     "metadata": {},
     "output_type": "execute_result"
    }
   ],
   "source": [
    "# See actual counts and maximum\n",
    "resp.parity.value_counts().sort_index()"
   ]
  },
  {
   "cell_type": "markdown",
   "id": "28e46e12-886c-4354-b73d-f9448f05f7f2",
   "metadata": {},
   "source": [
    "Let's investigate whether people with higher income have higher parity.  Keep in mind that in this study, we are observing different people at different times during their lives, so this data is not the best choice for answering this question.  But for now let's take it at face value.\n",
    "\n",
    "Use <tt>totincr</tt> to select the respondents with the highest income (level 14).  Plot the histogram of <tt>parity</tt> for just the high income respondents."
   ]
  },
  {
   "cell_type": "code",
   "execution_count": 26,
   "id": "c32b6f20-b3de-4606-a4fc-4963f70cec51",
   "metadata": {},
   "outputs": [
    {
     "data": {
      "image/png": "[encoded data removed]",
      "text/plain": [
       "<Figure size 360x360 with 1 Axes>"
      ]
     },
     "metadata": {},
     "output_type": "display_data"
    }
   ],
   "source": [
    "highest_income = (resp.totincr == 14)\n",
    "sns.displot(resp.parity[highest_income],\n",
    "           bins = np.arange(-0.5, 9.5));"
   ]
  },
  {
   "cell_type": "markdown",
   "id": "a24b0cce-02da-4690-a7b4-92f346713702",
   "metadata": {},
   "source": [
    "Find the largest parities for high income respondents."
   ]
  },
  {
   "cell_type": "code",
   "execution_count": 27,
   "id": "d3f009f4-5d2a-4ad6-9029-ed8a0908ffa6",
   "metadata": {},
   "outputs": [
    {
     "name": "stdout",
     "output_type": "stream",
     "text": [
      "Maximum parity for highest income : 8\n"
     ]
    }
   ],
   "source": [
    "print('Maximum parity for highest income : '\n",
    "      f'{resp.parity[highest_income].max()}')"
   ]
  },
  {
   "cell_type": "markdown",
   "id": "63d176f5-9a70-4ef0-83f0-c35696ce7f9e",
   "metadata": {},
   "source": [
    "Compare the mean <tt>parity</tt> for high income respondents and others."
   ]
  },
  {
   "cell_type": "code",
   "execution_count": 28,
   "id": "660c87fb-750b-45e3-ad61-c62ca8656b04",
   "metadata": {},
   "outputs": [
    {
     "name": "stdout",
     "output_type": "stream",
     "text": [
      "Mean parity\n",
      "Highest Income : 1.08\n",
      "Others : 1.25\n"
     ]
    }
   ],
   "source": [
    "print('Mean parity')\n",
    "print(f'Highest Income : {resp.parity[highest_income].mean():.2f}')\n",
    "print(f'Others : {resp.parity[~highest_income].mean():.2f}')"
   ]
  },
  {
   "cell_type": "markdown",
   "id": "acaa3a00-8fa9-4e48-b8f1-0582014de653",
   "metadata": {},
   "source": [
    "Compute the Cohen effect size for this difference.  How does it compare with the difference in pregnancy length for first babies and others?"
   ]
  },
  {
   "cell_type": "code",
   "execution_count": 29,
   "id": "6b84eec9-94ea-4609-b036-8f730b991d4e",
   "metadata": {},
   "outputs": [
    {
     "name": "stdout",
     "output_type": "stream",
     "text": [
      "Cohen Size Effect (Parity): -0.13\n"
     ]
    }
   ],
   "source": [
    "parity_cohen_effect = CohenEffectSize(resp.parity[highest_income],\n",
    "                                      resp.parity[~highest_income])\n",
    "print(f'Cohen Size Effect (Parity): {parity_cohen_effect:.2f}')\n"
   ]
  },
  {
   "cell_type": "code",
   "execution_count": null,
   "id": "f2c92bfe-4da2-48d2-a379-e2ea8a36abaf",
   "metadata": {},
   "outputs": [],
   "source": []
  }
 ],
 "metadata": {
  "kernelspec": {
   "display_name": "Python 3",
   "language": "python",
   "name": "python3"
  },
  "language_info": {
   "codemirror_mode": {
    "name": "ipython",
    "version": 3
   },
   "file_extension": ".py",
   "mimetype": "text/x-python",
   "name": "python",
   "nbconvert_exporter": "python",
   "pygments_lexer": "ipython3",
   "version": "3.7.11"
  }
 },
 "nbformat": 4,
 "nbformat_minor": 5
}
