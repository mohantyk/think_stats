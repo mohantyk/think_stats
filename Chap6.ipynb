{
 "cells": [
  {
   "cell_type": "markdown",
   "id": "ed4a9e91-27e0-4005-afcb-835dc6d2bc1e",
   "metadata": {},
   "source": [
    "## Imports"
   ]
  },
  {
   "cell_type": "code",
   "execution_count": 1,
   "id": "5dab3543-aa20-4c14-8f8a-e9bd4a11f172",
   "metadata": {},
   "outputs": [],
   "source": [
    "import pandas as pd\n",
    "import numpy as np\n",
    "import math\n",
    "from scipy import stats"
   ]
  },
  {
   "cell_type": "code",
   "execution_count": 2,
   "id": "0546e52c-bdb6-4f78-8828-d0456bab76e6",
   "metadata": {},
   "outputs": [],
   "source": [
    "from collections import defaultdict"
   ]
  },
  {
   "cell_type": "code",
   "execution_count": 3,
   "id": "c411fa72-f535-46df-9445-4121d3e48d0d",
   "metadata": {},
   "outputs": [],
   "source": [
    "import matplotlib.pyplot as plt\n",
    "import seaborn as sns\n",
    "\n",
    "sns.set_style('darkgrid')"
   ]
  },
  {
   "cell_type": "code",
   "execution_count": 4,
   "id": "2b0a76c6-ef84-4f1a-b73c-25bd0263e946",
   "metadata": {},
   "outputs": [],
   "source": [
    "# Add path to book code\n",
    "import os\n",
    "import sys\n",
    "\n",
    "sys.path.append( os.path.join( '.', 'original', 'code') )"
   ]
  },
  {
   "cell_type": "code",
   "execution_count": 5,
   "id": "d9bdeab4-e784-4afc-a7c6-7a86f41be518",
   "metadata": {},
   "outputs": [],
   "source": [
    "from original.code import nsfg, analytic, brfss"
   ]
  },
  {
   "cell_type": "markdown",
   "id": "0c66473a-68b2-4353-ac8b-80c803c61f4e",
   "metadata": {},
   "source": [
    "## Data Source"
   ]
  },
  {
   "cell_type": "code",
   "execution_count": 6,
   "id": "bed58904-c21e-4a78-927b-a090cf3e9663",
   "metadata": {},
   "outputs": [
    {
     "name": "stdout",
     "output_type": "stream",
     "text": [
      "Shape : (13593, 244)\n"
     ]
    },
    {
     "data": {
      "text/html": [
       "<div>\n",
       "<style scoped>\n",
       "    .dataframe tbody tr th:only-of-type {\n",
       "        vertical-align: middle;\n",
       "    }\n",
       "\n",
       "    .dataframe tbody tr th {\n",
       "        vertical-align: top;\n",
       "    }\n",
       "\n",
       "    .dataframe thead th {\n",
       "        text-align: right;\n",
       "    }\n",
       "</style>\n",
       "<table border=\"1\" class=\"dataframe\">\n",
       "  <thead>\n",
       "    <tr style=\"text-align: right;\">\n",
       "      <th></th>\n",
       "      <th>caseid</th>\n",
       "      <th>pregordr</th>\n",
       "      <th>howpreg_n</th>\n",
       "      <th>howpreg_p</th>\n",
       "      <th>moscurrp</th>\n",
       "      <th>nowprgdk</th>\n",
       "      <th>pregend1</th>\n",
       "      <th>pregend2</th>\n",
       "      <th>nbrnaliv</th>\n",
       "      <th>multbrth</th>\n",
       "      <th>...</th>\n",
       "      <th>laborfor_i</th>\n",
       "      <th>religion_i</th>\n",
       "      <th>metro_i</th>\n",
       "      <th>basewgt</th>\n",
       "      <th>adj_mod_basewgt</th>\n",
       "      <th>finalwgt</th>\n",
       "      <th>secu_p</th>\n",
       "      <th>sest</th>\n",
       "      <th>cmintvw</th>\n",
       "      <th>totalwgt_lb</th>\n",
       "    </tr>\n",
       "  </thead>\n",
       "  <tbody>\n",
       "    <tr>\n",
       "      <th>0</th>\n",
       "      <td>1</td>\n",
       "      <td>1</td>\n",
       "      <td>NaN</td>\n",
       "      <td>NaN</td>\n",
       "      <td>NaN</td>\n",
       "      <td>NaN</td>\n",
       "      <td>6.0</td>\n",
       "      <td>NaN</td>\n",
       "      <td>1.0</td>\n",
       "      <td>NaN</td>\n",
       "      <td>...</td>\n",
       "      <td>0</td>\n",
       "      <td>0</td>\n",
       "      <td>0</td>\n",
       "      <td>3410.389399</td>\n",
       "      <td>3869.349602</td>\n",
       "      <td>6448.271112</td>\n",
       "      <td>2</td>\n",
       "      <td>9</td>\n",
       "      <td>NaN</td>\n",
       "      <td>8.8125</td>\n",
       "    </tr>\n",
       "    <tr>\n",
       "      <th>1</th>\n",
       "      <td>1</td>\n",
       "      <td>2</td>\n",
       "      <td>NaN</td>\n",
       "      <td>NaN</td>\n",
       "      <td>NaN</td>\n",
       "      <td>NaN</td>\n",
       "      <td>6.0</td>\n",
       "      <td>NaN</td>\n",
       "      <td>1.0</td>\n",
       "      <td>NaN</td>\n",
       "      <td>...</td>\n",
       "      <td>0</td>\n",
       "      <td>0</td>\n",
       "      <td>0</td>\n",
       "      <td>3410.389399</td>\n",
       "      <td>3869.349602</td>\n",
       "      <td>6448.271112</td>\n",
       "      <td>2</td>\n",
       "      <td>9</td>\n",
       "      <td>NaN</td>\n",
       "      <td>7.8750</td>\n",
       "    </tr>\n",
       "    <tr>\n",
       "      <th>2</th>\n",
       "      <td>2</td>\n",
       "      <td>1</td>\n",
       "      <td>NaN</td>\n",
       "      <td>NaN</td>\n",
       "      <td>NaN</td>\n",
       "      <td>NaN</td>\n",
       "      <td>5.0</td>\n",
       "      <td>NaN</td>\n",
       "      <td>3.0</td>\n",
       "      <td>5.0</td>\n",
       "      <td>...</td>\n",
       "      <td>0</td>\n",
       "      <td>0</td>\n",
       "      <td>0</td>\n",
       "      <td>7226.301740</td>\n",
       "      <td>8567.549110</td>\n",
       "      <td>12999.542264</td>\n",
       "      <td>2</td>\n",
       "      <td>12</td>\n",
       "      <td>NaN</td>\n",
       "      <td>9.1250</td>\n",
       "    </tr>\n",
       "    <tr>\n",
       "      <th>3</th>\n",
       "      <td>2</td>\n",
       "      <td>2</td>\n",
       "      <td>NaN</td>\n",
       "      <td>NaN</td>\n",
       "      <td>NaN</td>\n",
       "      <td>NaN</td>\n",
       "      <td>6.0</td>\n",
       "      <td>NaN</td>\n",
       "      <td>1.0</td>\n",
       "      <td>NaN</td>\n",
       "      <td>...</td>\n",
       "      <td>0</td>\n",
       "      <td>0</td>\n",
       "      <td>0</td>\n",
       "      <td>7226.301740</td>\n",
       "      <td>8567.549110</td>\n",
       "      <td>12999.542264</td>\n",
       "      <td>2</td>\n",
       "      <td>12</td>\n",
       "      <td>NaN</td>\n",
       "      <td>7.0000</td>\n",
       "    </tr>\n",
       "    <tr>\n",
       "      <th>4</th>\n",
       "      <td>2</td>\n",
       "      <td>3</td>\n",
       "      <td>NaN</td>\n",
       "      <td>NaN</td>\n",
       "      <td>NaN</td>\n",
       "      <td>NaN</td>\n",
       "      <td>6.0</td>\n",
       "      <td>NaN</td>\n",
       "      <td>1.0</td>\n",
       "      <td>NaN</td>\n",
       "      <td>...</td>\n",
       "      <td>0</td>\n",
       "      <td>0</td>\n",
       "      <td>0</td>\n",
       "      <td>7226.301740</td>\n",
       "      <td>8567.549110</td>\n",
       "      <td>12999.542264</td>\n",
       "      <td>2</td>\n",
       "      <td>12</td>\n",
       "      <td>NaN</td>\n",
       "      <td>6.1875</td>\n",
       "    </tr>\n",
       "  </tbody>\n",
       "</table>\n",
       "<p>5 rows × 244 columns</p>\n",
       "</div>"
      ],
      "text/plain": [
       "   caseid  pregordr  howpreg_n  howpreg_p  moscurrp  nowprgdk  pregend1  \\\n",
       "0       1         1        NaN        NaN       NaN       NaN       6.0   \n",
       "1       1         2        NaN        NaN       NaN       NaN       6.0   \n",
       "2       2         1        NaN        NaN       NaN       NaN       5.0   \n",
       "3       2         2        NaN        NaN       NaN       NaN       6.0   \n",
       "4       2         3        NaN        NaN       NaN       NaN       6.0   \n",
       "\n",
       "   pregend2  nbrnaliv  multbrth  ...  laborfor_i  religion_i  metro_i  \\\n",
       "0       NaN       1.0       NaN  ...           0           0        0   \n",
       "1       NaN       1.0       NaN  ...           0           0        0   \n",
       "2       NaN       3.0       5.0  ...           0           0        0   \n",
       "3       NaN       1.0       NaN  ...           0           0        0   \n",
       "4       NaN       1.0       NaN  ...           0           0        0   \n",
       "\n",
       "       basewgt  adj_mod_basewgt      finalwgt  secu_p  sest  cmintvw  \\\n",
       "0  3410.389399      3869.349602   6448.271112       2     9      NaN   \n",
       "1  3410.389399      3869.349602   6448.271112       2     9      NaN   \n",
       "2  7226.301740      8567.549110  12999.542264       2    12      NaN   \n",
       "3  7226.301740      8567.549110  12999.542264       2    12      NaN   \n",
       "4  7226.301740      8567.549110  12999.542264       2    12      NaN   \n",
       "\n",
       "   totalwgt_lb  \n",
       "0       8.8125  \n",
       "1       7.8750  \n",
       "2       9.1250  \n",
       "3       7.0000  \n",
       "4       6.1875  \n",
       "\n",
       "[5 rows x 244 columns]"
      ]
     },
     "execution_count": 6,
     "metadata": {},
     "output_type": "execute_result"
    }
   ],
   "source": [
    "df_orig = nsfg.ReadFemPreg('original/code/2002FemPreg.dct', 'original/code/2002FemPreg.dat.gz')\n",
    "print(f'Shape : {df_orig.shape}')\n",
    "df_orig.head()"
   ]
  },
  {
   "cell_type": "code",
   "execution_count": 7,
   "id": "228a8a3b-641d-406c-a440-9f61bd5f66fb",
   "metadata": {},
   "outputs": [
    {
     "name": "stdout",
     "output_type": "stream",
     "text": [
      "Shape: (13593, 10)\n"
     ]
    }
   ],
   "source": [
    "# Focus on relevant columns\n",
    "relevant_cols = ['caseid', 'prglngth', 'outcome', 'pregordr', 'birthord', 'birthwgt_lb', 'birthwgt_oz', 'agepreg', 'finalwgt']\n",
    "preg = df_orig.loc[:, relevant_cols]  # Not using loc here will lead to SettingWithCopyWarning\n",
    "                                    # since pandas will not be able to ascertain if df is a view or a copy\n",
    "# Calculate Total Weight\n",
    "preg['totalwgt_lb'] = preg.birthwgt_lb + preg.birthwgt_oz / 16.0\n",
    "print(f'Shape: {preg.shape}')"
   ]
  },
  {
   "cell_type": "code",
   "execution_count": 8,
   "id": "3713b6e9-72aa-4d41-910e-7249a6da8ce1",
   "metadata": {},
   "outputs": [],
   "source": [
    "# Respondents Data\n",
    "resp = nsfg.ReadFemResp('original/code/2002FemResp.dct', \n",
    "                        'original/code/2002FemResp.dat.gz')"
   ]
  },
  {
   "cell_type": "code",
   "execution_count": 9,
   "id": "080999a1-96aa-456c-9d01-4adac27ea6bc",
   "metadata": {},
   "outputs": [],
   "source": [
    "# Areas of focus\n",
    "live = preg.loc[preg.outcome == 1]\n",
    "firsts = live[live.birthord == 1]\n",
    "others = live[live.birthord != 1]"
   ]
  },
  {
   "cell_type": "code",
   "execution_count": 10,
   "id": "c50d0c23-8955-4aed-a03c-19a9f0c26422",
   "metadata": {},
   "outputs": [],
   "source": [
    "baby_boom = analytic.ReadBabyBoom('original/code/babyboom.dat')"
   ]
  },
  {
   "cell_type": "code",
   "execution_count": 11,
   "id": "f06f167c-7946-4c0a-8615-0b772c1f238b",
   "metadata": {},
   "outputs": [],
   "source": [
    "behave_risk = brfss.ReadBrfss(filename='original/code/CDBRFS08.ASC.gz')"
   ]
  },
  {
   "cell_type": "markdown",
   "id": "eaab3ced-6031-45e3-b38b-d8d92743660d",
   "metadata": {},
   "source": [
    "## Useful Functions"
   ]
  },
  {
   "cell_type": "code",
   "execution_count": 12,
   "id": "a676d9e5-5405-4aab-ad7e-06a9f0aadcf8",
   "metadata": {},
   "outputs": [],
   "source": [
    "def create_cdf(ser):\n",
    "    return ser.value_counts(normalize=True).sort_index().cumsum()"
   ]
  },
  {
   "cell_type": "code",
   "execution_count": 13,
   "id": "c6ff9910-bcfc-4ab0-b592-769cbba9d5b1",
   "metadata": {},
   "outputs": [],
   "source": [
    "def create_normal_model(values):\n",
    "    return stats.norm(values.mean(), values.std())"
   ]
  },
  {
   "cell_type": "code",
   "execution_count": 14,
   "id": "36a81e9e-5fc3-4f8a-b1bd-140edd72cef5",
   "metadata": {},
   "outputs": [],
   "source": [
    "# Normal Probability Plot\n",
    "def normal_prob_plot(samples):\n",
    "    n = len(samples)\n",
    "    normal_samples = np.random.normal(0, 1, n)\n",
    "    return np.sort(normal_samples), np.sort(samples)"
   ]
  },
  {
   "cell_type": "code",
   "execution_count": 15,
   "id": "c8936e15-bc3a-4f6a-a13a-7547b7a05ef9",
   "metadata": {},
   "outputs": [],
   "source": [
    "# Pearson Median Skewness\n",
    "def pearson_median_skewness(sample):\n",
    "    median = np.median(sample)\n",
    "    mean = sample.mean()\n",
    "    std = sample.std()\n",
    "    gp = 3*(mean - median) / std\n",
    "    return gp"
   ]
  },
  {
   "cell_type": "markdown",
   "id": "026803e9-cae1-445f-8ce7-581560028162",
   "metadata": {},
   "source": [
    "## KDE"
   ]
  },
  {
   "cell_type": "code",
   "execution_count": 16,
   "id": "a3664714-126f-4888-b475-1cd8199e9fca",
   "metadata": {},
   "outputs": [],
   "source": [
    "# Random samples\n",
    "mean, var = 163, 52.8\n",
    "std = np.sqrt(var)\n",
    "generating_model = stats.norm(mean, std)\n",
    "sample = generating_model.rvs(5000)\n",
    "sample_kde = stats.gaussian_kde(sample)"
   ]
  },
  {
   "cell_type": "code",
   "execution_count": 17,
   "id": "b334e41f-7746-45b3-b2ab-7806f833130f",
   "metadata": {},
   "outputs": [
    {
     "data": {
      "image/png": "[encoded data removed]",
      "text/plain": [
       "<Figure size 432x288 with 1 Axes>"
      ]
     },
     "metadata": {},
     "output_type": "display_data"
    }
   ],
   "source": [
    "# Plots\n",
    "sorted_samples = np.sort(sample)\n",
    "plt.plot(sorted_samples, generating_model.pdf(sorted_samples), label='actual')\n",
    "plt.plot(sorted_samples, sample_kde(sorted_samples), label='gaussian kde');\n",
    "plt.xlabel('Height (cm)')\n",
    "plt.ylabel('Density');\n",
    "plt.legend();"
   ]
  },
  {
   "cell_type": "markdown",
   "id": "349541f7-d87d-4897-a841-9d751b3df940",
   "metadata": {},
   "source": [
    "## Skewness"
   ]
  },
  {
   "cell_type": "code",
   "execution_count": 18,
   "id": "b06577e7-6ad6-4e82-a458-5e56e05b90e1",
   "metadata": {},
   "outputs": [
    {
     "name": "stdout",
     "output_type": "stream",
     "text": [
      "Skewness of weights : -0.23\n"
     ]
    }
   ],
   "source": [
    "data = live.totalwgt_lb.dropna()\n",
    "print(f'Skewness of weights : {pearson_median_skewness(data):.2f}')"
   ]
  },
  {
   "cell_type": "code",
   "execution_count": 19,
   "id": "d3692a0c-9507-4ffc-98a4-f8dedaab3ca1",
   "metadata": {},
   "outputs": [
    {
     "data": {
      "image/png": "[encoded data removed]",
      "text/plain": [
       "<Figure size 432x288 with 1 Axes>"
      ]
     },
     "metadata": {},
     "output_type": "display_data"
    }
   ],
   "source": [
    "weights_kde = stats.gaussian_kde(data)\n",
    "sorted_data = data.sort_values()\n",
    "plt.plot(sorted_data, weights_kde(sorted_data));\n",
    "plt.xlabel('Weight')\n",
    "plt.ylabel('PDF')\n",
    "plt.axvline(data.mean(), label='mean', c='r', linewidth=0.5)\n",
    "plt.axvline(np.median(data), label='median', c='k', linewidth=0.5);\n",
    "plt.legend();"
   ]
  },
  {
   "cell_type": "code",
   "execution_count": null,
   "id": "677ce518-c249-441e-a402-f4a8de9d516e",
   "metadata": {},
   "outputs": [],
   "source": []
  }
 ],
 "metadata": {
  "kernelspec": {
   "display_name": "Python 3",
   "language": "python",
   "name": "python3"
  },
  "language_info": {
   "codemirror_mode": {
    "name": "ipython",
    "version": 3
   },
   "file_extension": ".py",
   "mimetype": "text/x-python",
   "name": "python",
   "nbconvert_exporter": "python",
   "pygments_lexer": "ipython3",
   "version": "3.7.11"
  }
 },
 "nbformat": 4,
 "nbformat_minor": 5
}
